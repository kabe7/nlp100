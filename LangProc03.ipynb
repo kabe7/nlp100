{
 "cells": [
  {
   "cell_type": "markdown",
   "metadata": {},
   "source": [
    "## 20. JSONデータの読み込み\n",
    "Wikipedia記事のJSONファイルを読み込み，「イギリス」に関する記事本文を表示せよ．問題21-29では，ここで抽出した記事本文に対して実行せよ．"
   ]
  },
  {
   "cell_type": "code",
   "execution_count": 15,
   "metadata": {},
   "outputs": [],
   "source": [
    "import json\n",
    "with open(\"jawiki-country.json\", 'r') as wiki:\n",
    "    for article in wiki.readlines():\n",
    "        data = json.loads(article)\n",
    "        if data[\"title\"] == \"イギリス\":\n",
    "            break\n",
    "    \n",
    "gb_text = data[\"text\"]\n",
    "with open(\"gb_text\", 'w') as out:\n",
    "    out.write(gb_text)\n",
    "\n",
    "#print(gb_text)"
   ]
  },
  {
   "cell_type": "markdown",
   "metadata": {},
   "source": [
    "## 21. カテゴリ名を含む行を抽出\n",
    "記事中でカテゴリ名を宣言している行を抽出せよ．\n",
    "\n",
    "### memo\n",
    "categoryは一番下の方に書いてある"
   ]
  },
  {
   "cell_type": "code",
   "execution_count": 22,
   "metadata": {},
   "outputs": [
    {
     "name": "stdout",
     "output_type": "stream",
     "text": [
      "[[Category:イギリス|*]]\n",
      "\n",
      "[[Category:英連邦王国|*]]\n",
      "\n",
      "[[Category:G8加盟国]]\n",
      "\n",
      "[[Category:欧州連合加盟国]]\n",
      "\n",
      "[[Category:海洋国家]]\n",
      "\n",
      "[[Category:君主国]]\n",
      "\n",
      "[[Category:島国|くれいとふりてん]]\n",
      "\n",
      "[[Category:1801年に設立された州・地域]]\n"
     ]
    }
   ],
   "source": [
    "import re\n",
    "\n",
    "with open(\"gb_text\", 'r') as f:\n",
    "    for line in f.readlines():\n",
    "        match = re.search(\"Category\", line)\n",
    "        if match:\n",
    "            print(line)"
   ]
  },
  {
   "cell_type": "markdown",
   "metadata": {},
   "source": [
    "## 22. カテゴリ名の抽出\n",
    "記事のカテゴリ名を（行単位ではなく名前で）抽出せよ．\n",
    "\n",
    "### memo\n",
    "- 角カッコはバックスラッシュが必要\n",
    "- `(?P<name> 正規表現)`で名前からアクセス可能"
   ]
  },
  {
   "cell_type": "code",
   "execution_count": 26,
   "metadata": {},
   "outputs": [
    {
     "name": "stdout",
     "output_type": "stream",
     "text": [
      "イギリス|*\n",
      "英連邦王国|*\n",
      "G8加盟国\n",
      "欧州連合加盟国\n",
      "海洋国家\n",
      "君主国\n",
      "島国|くれいとふりてん\n",
      "1801年に設立された州・地域\n"
     ]
    }
   ],
   "source": [
    "import re\n",
    "with open(\"gb_text\", 'r') as f:\n",
    "    for line in f.readlines():\n",
    "        match = re.search(\"\\[\\[Category:(?P<name>.*)\\]\\]\", line)\n",
    "        if match:\n",
    "            print(match.group('name'))"
   ]
  },
  {
   "cell_type": "markdown",
   "metadata": {},
   "source": [
    "## 23. セクション構造\n",
    "記事中に含まれるセクション名とそのレベル（例えば\"== セクション名 ==\"なら1）を表示せよ．"
   ]
  },
  {
   "cell_type": "code",
   "execution_count": 55,
   "metadata": {},
   "outputs": [
    {
     "name": "stdout",
     "output_type": "stream",
     "text": [
      "Level:1 title:国名\n",
      "Level:1 title:歴史\n",
      "Level:1 title:地理\n",
      "Level:2 title:気候\n",
      "Level:1 title:政治\n",
      "Level:1 title:外交と軍事\n",
      "Level:1 title:地方行政区分\n",
      "Level:2 title:主要都市\n",
      "Level:1 title:科学技術\n",
      "Level:1 title:経済\n",
      "Level:2 title:鉱業\n",
      "Level:2 title:農業\n",
      "Level:2 title:貿易\n",
      "Level:2 title:通貨\n",
      "Level:2 title:企業\n",
      "Level:1 title:交通\n",
      "Level:2 title:道路\n",
      "Level:2 title:鉄道\n",
      "Level:2 title:海運\n",
      "Level:2 title:航空\n",
      "Level:1 title:通信\n",
      "Level:1 title:国民\n",
      "Level:2 title:言語\n",
      "Level:2 title:宗教\n",
      "Level:2 title: 婚姻 \n",
      "Level:2 title:教育\n",
      "Level:1 title:文化\n",
      "Level:2 title:食文化\n",
      "Level:2 title:文学\n",
      "Level:2 title: 哲学 \n",
      "Level:2 title:音楽\n",
      "Level:3 title:イギリスのポピュラー音楽\n",
      "Level:2 title:映画\n",
      "Level:2 title:コメディ\n",
      "Level:2 title:国花\n",
      "Level:2 title:世界遺産\n",
      "Level:2 title:祝祭日\n",
      "Level:1 title:スポーツ\n",
      "Level:2 title:サッカー\n",
      "Level:2 title:競馬\n",
      "Level:2 title:モータースポーツ\n",
      "Level:1 title:脚注\n",
      "Level:1 title:関連項目\n",
      "Level:1 title:外部リンク\n"
     ]
    }
   ],
   "source": [
    "import re\n",
    "with open(\"gb_text\", 'r') as f:\n",
    "    for line in f.readlines():\n",
    "        match = re.search(\"(?P<section>\\=+)(?P<name>.*)(?P=section)$\", line)\n",
    "        if match:\n",
    "            print(\"Level:%d title:%s\" % (len(match.group('section'))-1, match.group('name')))"
   ]
  },
  {
   "cell_type": "markdown",
   "metadata": {},
   "source": [
    "## 24. ファイル参照の抽出\n",
    "記事から参照されているメディアファイルをすべて抜き出せ．\n",
    "\n",
    "### memo\n",
    "(File or ファイル): (ファイル名)| (情報) |... "
   ]
  },
  {
   "cell_type": "code",
   "execution_count": 43,
   "metadata": {},
   "outputs": [
    {
     "name": "stdout",
     "output_type": "stream",
     "text": [
      "Royal Coat of Arms of the United Kingdom.svg\n",
      "Battle of Waterloo 1815.PNG\n",
      "The British Empire.png\n",
      "Uk topo en.jpg\n",
      "BenNevis2005.jpg\n",
      "Elizabeth II greets NASA GSFC employees, May 8, 2007 edit.jpg\n",
      "Palace of Westminster, London - Feb 2007.jpg\n",
      "David Cameron and Barack Obama at the G20 Summit in Toronto.jpg\n",
      "Soldiers Trooping the Colour, 16th June 2007.jpg\n",
      "Scotland Parliament Holyrood.jpg\n",
      "London.bankofengland.arp.jpg\n",
      "City of London skyline from London City Hall - Oct 2008.jpg\n",
      "Oil platform in the North SeaPros.jpg\n",
      "Eurostar at St Pancras Jan 2008.jpg\n",
      "Heathrow T5.jpg\n",
      "Anglospeak.svg\n",
      "CHANDOS3.jpg\n",
      "The Fabs.JPG\n",
      "PalaceOfWestminsterAtNight.jpg\n",
      "Westminster Abbey - West Door.jpg\n",
      "Edinburgh Cockburn St dsc06789.jpg\n",
      "Canterbury Cathedral - Portal Nave Cross-spire.jpeg\n",
      "Kew Gardens Palm House, London - July 2009.jpg\n",
      "2005-06-27 - United Kingdom - England - London - Greenwich.jpg\n",
      "Stonehenge2007 07 30.jpg\n",
      "Yard2.jpg\n",
      "Durham Kathedrale Nahaufnahme.jpg\n",
      "Roman Baths in Bath Spa, England - July 2006.jpg\n",
      "Fountains Abbey view02 2005-08-27.jpg\n",
      "Blenheim Palace IMG 3673.JPG\n",
      "Liverpool Pier Head by night.jpg\n",
      "Hadrian's Wall view near Greenhead.jpg\n",
      "London Tower (1).JPG\n",
      "Wembley Stadium, illuminated.jpg\n"
     ]
    }
   ],
   "source": [
    "import re\n",
    "with open(\"gb_text\", 'r') as f:\n",
    "    for line in f.readlines():\n",
    "        match = re.search(\"[File | ファイル]:(?P<name>.*\\.[a-zA-Z]+)\\|\", line)\n",
    "        if match:\n",
    "            print(match.group('name'))"
   ]
  },
  {
   "cell_type": "markdown",
   "metadata": {},
   "source": [
    "## 25. テンプレートの抽出\n",
    "記事中に含まれる「基礎情報」テンプレートのフィールド名と値を抽出し，辞書オブジェクトとして格納せよ．\n",
    "\n",
    "### MEMO\n",
    "|から始まって = で繋がれてるのを探す  \n",
    "wikitableを弾くために｜と=の間（フィールド名）に |があるものは除外"
   ]
  },
  {
   "cell_type": "code",
   "execution_count": 77,
   "metadata": {},
   "outputs": [],
   "source": [
    "import re\n",
    "\n",
    "basic_info = {}\n",
    "with open(\"gb_text\", 'r') as f:\n",
    "    for line in f.readlines():\n",
    "        match = re.match(\"\\|(?P<field>[^|]+)=(?P<value>.+)$\", line)\n",
    "        if match:\n",
    "            basic_info[match.group('field')] = match.group('value')"
   ]
  },
  {
   "cell_type": "markdown",
   "metadata": {},
   "source": [
    "## 26. 強調マークアップの除去\n",
    "25の処理時に，テンプレートの値からMediaWikiの強調マークアップ（弱い強調，強調，強い強調のすべて）を除去してテキストに変換せよ．\n",
    "\n",
    "### memo\n",
    "2,3,5つのシングルクォーテーション囲いを消す"
   ]
  },
  {
   "cell_type": "code",
   "execution_count": 80,
   "metadata": {},
   "outputs": [
    {
     "data": {
      "text/plain": [
       "{'略名 ': ' イギリス',\n",
       " '日本語国名 ': ' グレートブリテン及び北アイルランド連合王国',\n",
       " '公式国名 ': ' {{lang|en|United Kingdom of Great Britain and Northern Ireland}}<ref>英語以外での正式国名:<br/>',\n",
       " '国旗画像 ': ' Flag of the United Kingdom.svg',\n",
       " '国章画像 ': ' [[ファイル:Royal Coat of Arms of the United Kingdom.svg|85px|イギリスの国章]]',\n",
       " '国章リンク ': ' （[[イギリスの国章|国章]]）',\n",
       " '標語 ': ' {{lang|fr|Dieu et mon droit}}<br/>（[[フランス語]]:神と私の権利）',\n",
       " '国歌 ': ' [[女王陛下万歳|神よ女王陛下を守り給え]]',\n",
       " '位置画像 ': ' Location_UK_EU_Europe_001.svg',\n",
       " '公用語 ': ' [[英語]]（事実上）',\n",
       " '首都 ': ' [[ロンドン]]',\n",
       " '最大都市 ': ' ロンドン',\n",
       " '元首等肩書 ': ' [[イギリスの君主|女王]]',\n",
       " '元首等氏名 ': ' [[エリザベス2世]]',\n",
       " '首相等肩書 ': ' [[イギリスの首相|首相]]',\n",
       " '首相等氏名 ': ' [[デーヴィッド・キャメロン]]',\n",
       " '面積順位 ': ' 76',\n",
       " '面積大きさ ': ' 1 E11',\n",
       " '面積値 ': ' 244,820',\n",
       " '水面積率 ': ' 1.3%',\n",
       " '人口統計年 ': ' 2011',\n",
       " '人口順位 ': ' 22',\n",
       " '人口大きさ ': ' 1 E7',\n",
       " '人口値 ': ' 63,181,775<ref>[http://esa.un.org/unpd/wpp/Excel-Data/population.htm United Nations Department of Economic and Social Affairs>Population Division>Data>Population>Total Population]</ref>',\n",
       " '人口密度値 ': ' 246',\n",
       " 'GDP統計年元 ': ' 2012',\n",
       " 'GDP値元 = 1兆5478億<ref name=\"imf-statistics-gdp\">[http://www.imf.org/external/pubs/ft/weo/2012/02/weodata/weorept.aspx?pr.x=70&pr.y=13&sy=2010&ey=2012&scsm=1&ssd=1&sort=country&ds=.&br=1&c=112&s=NGDP%2CNGDPD%2CPPPGDP%2CPPPPC&grp=0&a': ' IMF>Data and Statistics>World Economic Outlook Databases>By Countrise>United Kingdom]</ref>',\n",
       " 'GDP統計年MER ': ' 2012',\n",
       " 'GDP順位MER ': ' 5',\n",
       " 'GDP値MER = 2兆4337億<ref name': '\"imf-statistics-gdp\" />',\n",
       " 'GDP統計年 ': ' 2012',\n",
       " 'GDP順位 ': ' 6',\n",
       " 'GDP値 = 2兆3162億<ref name': '\"imf-statistics-gdp\" />',\n",
       " 'GDP/人 = 36,727<ref name': '\"imf-statistics-gdp\" />',\n",
       " '建国形態 ': ' 建国',\n",
       " '確立形態1 ': ' [[イングランド王国]]／[[スコットランド王国]]<br />（両国とも[[連合法 (1707年)|1707年連合法]]まで）',\n",
       " '確立年月日1 ': ' [[927年]]／[[843年]]',\n",
       " '確立形態2 ': ' [[グレートブリテン王国]]建国<br />（[[連合法 (1707年)|1707年連合法]]）',\n",
       " '確立年月日2 ': ' [[1707年]]',\n",
       " '確立形態3 ': ' [[グレートブリテン及びアイルランド連合王国]]建国<br />（[[連合法 (1800年)|1800年連合法]]）',\n",
       " '確立年月日3 ': ' [[1801年]]',\n",
       " '確立形態4 ': ' 現在の国号「グレートブリテン及び北アイルランド連合王国」に変更',\n",
       " '確立年月日4 ': ' [[1927年]]',\n",
       " '通貨 ': ' [[スターリング・ポンド|UKポンド]] (&pound;)',\n",
       " '通貨コード ': ' GBP',\n",
       " '時間帯 ': ' ±0',\n",
       " '夏時間 ': ' +1',\n",
       " 'ISO 3166-1 ': ' GB / GBR',\n",
       " 'ccTLD ': ' [[.uk]] / [[.gb]]<ref>使用は.ukに比べ圧倒的少数。</ref>',\n",
       " '国際電話番号 ': ' 44',\n",
       " '注記 ': ' <references />'}"
      ]
     },
     "execution_count": 80,
     "metadata": {},
     "output_type": "execute_result"
    }
   ],
   "source": [
    "import re\n",
    "\n",
    "basic_info = {}\n",
    "with open(\"gb_text\", 'r') as f:\n",
    "    for line in f.readlines():\n",
    "        match = re.match(\"\\|(?P<field>[^|]+)=(?P<value>.+)$\", line)\n",
    "        if match:\n",
    "            no_emph = re.sub(\"\\'\", \"\", match.group('value'))\n",
    "            basic_info[match.group('field')] = no_emph\n",
    "            \n",
    "basic_info"
   ]
  },
  {
   "cell_type": "markdown",
   "metadata": {},
   "source": [
    "## 27. 内部リンクの除去\n",
    "26の処理に加えて，テンプレートの値からMediaWikiの内部リンクマークアップを除去し，テキストに変換せよ．\n",
    "\n",
    "### memo\n",
    "[[記事名]]\t or [[記事名|表示文字]] or [[記事名#節名|表示文字]]\n",
    "\n",
    "表示と異なる可能性がある|の前半を最小マッチングで検出して弾く"
   ]
  },
  {
   "cell_type": "code",
   "execution_count": 97,
   "metadata": {},
   "outputs": [
    {
     "data": {
      "text/plain": [
       "{'略名 ': ' イギリス',\n",
       " '日本語国名 ': ' グレートブリテン及び北アイルランド連合王国',\n",
       " '公式国名 ': ' {{lang|en|United Kingdom of Great Britain and Northern Ireland}}<ref>英語以外での正式国名:<br/>',\n",
       " '国旗画像 ': ' Flag of the United Kingdom.svg',\n",
       " '国章画像 ': ' [[ファイル:Royal Coat of Arms of the United Kingdom.svg|85px|イギリスの国章]]',\n",
       " '国章リンク ': ' （国章）',\n",
       " '標語 ': ' {{lang|fr|Dieu et mon droit}}<br/>（フランス語:神と私の権利）',\n",
       " '国歌 ': ' 神よ女王陛下を守り給え',\n",
       " '位置画像 ': ' Location_UK_EU_Europe_001.svg',\n",
       " '公用語 ': ' 英語（事実上）',\n",
       " '首都 ': ' ロンドン',\n",
       " '最大都市 ': ' ロンドン',\n",
       " '元首等肩書 ': ' 女王',\n",
       " '元首等氏名 ': ' エリザベス2世',\n",
       " '首相等肩書 ': ' 首相',\n",
       " '首相等氏名 ': ' デーヴィッド・キャメロン',\n",
       " '面積順位 ': ' 76',\n",
       " '面積大きさ ': ' 1 E11',\n",
       " '面積値 ': ' 244,820',\n",
       " '水面積率 ': ' 1.3%',\n",
       " '人口統計年 ': ' 2011',\n",
       " '人口順位 ': ' 22',\n",
       " '人口大きさ ': ' 1 E7',\n",
       " '人口値 ': ' 63,181,775<ref>[http://esa.un.org/unpd/wpp/Excel-Data/population.htm United Nations Department of Economic and Social Affairs>Population Division>Data>Population>Total Population]</ref>',\n",
       " '人口密度値 ': ' 246',\n",
       " 'GDP統計年元 ': ' 2012',\n",
       " 'GDP値元 = 1兆5478億<ref name=\"imf-statistics-gdp\">[http://www.imf.org/external/pubs/ft/weo/2012/02/weodata/weorept.aspx?pr.x=70&pr.y=13&sy=2010&ey=2012&scsm=1&ssd=1&sort=country&ds=.&br=1&c=112&s=NGDP%2CNGDPD%2CPPPGDP%2CPPPPC&grp=0&a': ' IMF>Data and Statistics>World Economic Outlook Databases>By Countrise>United Kingdom]</ref>',\n",
       " 'GDP統計年MER ': ' 2012',\n",
       " 'GDP順位MER ': ' 5',\n",
       " 'GDP値MER = 2兆4337億<ref name': '\"imf-statistics-gdp\" />',\n",
       " 'GDP統計年 ': ' 2012',\n",
       " 'GDP順位 ': ' 6',\n",
       " 'GDP値 = 2兆3162億<ref name': '\"imf-statistics-gdp\" />',\n",
       " 'GDP/人 = 36,727<ref name': '\"imf-statistics-gdp\" />',\n",
       " '建国形態 ': ' 建国',\n",
       " '確立形態1 ': ' イングランド王国／スコットランド王国<br />（両国とも1707年連合法まで）',\n",
       " '確立年月日1 ': ' 927年／843年',\n",
       " '確立形態2 ': ' グレートブリテン王国建国<br />（1707年連合法）',\n",
       " '確立年月日2 ': ' 1707年',\n",
       " '確立形態3 ': ' グレートブリテン及びアイルランド連合王国建国<br />（1800年連合法）',\n",
       " '確立年月日3 ': ' 1801年',\n",
       " '確立形態4 ': ' 現在の国号「グレートブリテン及び北アイルランド連合王国」に変更',\n",
       " '確立年月日4 ': ' 1927年',\n",
       " '通貨 ': ' UKポンド (&pound;)',\n",
       " '通貨コード ': ' GBP',\n",
       " '時間帯 ': ' ±0',\n",
       " '夏時間 ': ' +1',\n",
       " 'ISO 3166-1 ': ' GB / GBR',\n",
       " 'ccTLD ': ' .uk / .gb<ref>使用は.ukに比べ圧倒的少数。</ref>',\n",
       " '国際電話番号 ': ' 44',\n",
       " '注記 ': ' <references />'}"
      ]
     },
     "execution_count": 97,
     "metadata": {},
     "output_type": "execute_result"
    }
   ],
   "source": [
    "import re\n",
    "\n",
    "basic_info = {}\n",
    "with open(\"gb_text\", 'r') as f:\n",
    "    for line in f.readlines():\n",
    "        match = re.match(\"\\|(?P<field>[^|]+)=(?P<value>.+)$\", line)\n",
    "        if match:\n",
    "            no_emph = re.sub(\"\\'\", \"\", match.group('value'))\n",
    "            no_link = re.sub(\"\\[\\[(?P<link>[^|]*?)\\|?(?P<display>[^|]+?)\\]\\]\", \"\\g<display>\", no_emph)\n",
    "            basic_info[match.group('field')] = no_link\n",
    "            \n",
    "basic_info"
   ]
  },
  {
   "cell_type": "markdown",
   "metadata": {},
   "source": [
    "## 28. MediaWikiマークアップの除去\n",
    "27の処理に加えて，テンプレートの値からMediaWikiマークアップを可能な限り除去し，国の基本情報を整形せよ．\n",
    "\n",
    "### memo\n",
    "ref, br, 波括弧を消す"
   ]
  },
  {
   "cell_type": "code",
   "execution_count": null,
   "metadata": {},
   "outputs": [],
   "source": []
  },
  {
   "cell_type": "markdown",
   "metadata": {},
   "source": [
    "## 29. 国旗画像のURLを取得する\n",
    "テンプレートの内容を利用し，国旗画像のURLを取得せよ．（ヒント: MediaWiki APIのimageinfoを呼び出して，ファイル参照をURLに変換すればよい）\n",
    "\n",
    "### memo\n",
    "ヒントが謎"
   ]
  },
  {
   "cell_type": "code",
   "execution_count": null,
   "metadata": {},
   "outputs": [],
   "source": []
  }
 ],
 "metadata": {
  "kernelspec": {
   "display_name": "Python 3",
   "language": "python",
   "name": "python3"
  },
  "language_info": {
   "codemirror_mode": {
    "name": "ipython",
    "version": 3
   },
   "file_extension": ".py",
   "mimetype": "text/x-python",
   "name": "python",
   "nbconvert_exporter": "python",
   "pygments_lexer": "ipython3",
   "version": "3.7.0"
  }
 },
 "nbformat": 4,
 "nbformat_minor": 2
}
