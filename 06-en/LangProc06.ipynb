{
 "cells": [
  {
   "cell_type": "code",
   "execution_count": 1,
   "metadata": {},
   "outputs": [],
   "source": [
    "# common\n",
    "import re\n",
    "import xml.etree.ElementTree as ET\n",
    "textpath = \"data/nlp.txt\"\n"
   ]
  },
  {
   "cell_type": "markdown",
   "metadata": {},
   "source": [
    "## 50. 文区切り\n",
    "(. or ; or : or ? or !) → 空白文字 → 英大文字というパターンを文の区切りと見なし，入力された文書を1行1文の形式で出力せよ．"
   ]
  },
  {
   "cell_type": "code",
   "execution_count": null,
   "metadata": {},
   "outputs": [],
   "source": [
    "with open(textpath) as text, open(\"out/50.txt\", \"w\") as f:\n",
    "    f.write(re.sub(r\"(?<=[.;:?!])\\s(?=[A-Z])\", \"\\n\", text.read()))"
   ]
  },
  {
   "cell_type": "markdown",
   "metadata": {},
   "source": [
    "## 51. 単語の切り出し\n",
    "空白を単語の区切りとみなし，50の出力を入力として受け取り，1行1単語の形式で出力せよ．ただし，文の終端では空行を出力せよ．"
   ]
  },
  {
   "cell_type": "code",
   "execution_count": null,
   "metadata": {},
   "outputs": [],
   "source": [
    "with open(\"out/50.txt\") as text, open(\"out/51.txt\", \"w\") as f:\n",
    "    space2nl = re.sub(\"\\s\", \"\\n\", text.read())\n",
    "    new_text = re.sub(\"\\.\\n\", \".\\n\\n\", space2nl)\n",
    "    f.write(new_text)"
   ]
  },
  {
   "cell_type": "markdown",
   "metadata": {},
   "source": [
    "## 52. ステミング\n",
    "51の出力を入力として受け取り，Porterのステミングアルゴリズムを適用し，単語と語幹をタブ区切り形式で出力せよ． Pythonでは，Porterのステミングアルゴリズムの実装としてstemmingモジュールを利用するとよい．"
   ]
  },
  {
   "cell_type": "code",
   "execution_count": null,
   "metadata": {},
   "outputs": [],
   "source": [
    "from nltk.stem.porter import PorterStemmer as PS\n",
    "ps = PS()\n",
    "\n",
    "with open(\"out/51.txt\") as words, open(\"out/52.txt\", \"w\") as f:\n",
    "    for word in words:\n",
    "        f.write(word.strip() + \"\\t\" + ps.stem(word.strip()) + \"\\n\")"
   ]
  },
  {
   "cell_type": "markdown",
   "metadata": {},
   "source": [
    "## 53. Tokenization\n",
    "Stanford Core NLPを用い，入力テキストの解析結果をXML形式で得よ．また，このXMLファイルを読み込み，入力テキストを1行1単語の形式で出力せよ．\n",
    "\n",
    "### memo\n",
    "`java -cp \"*\" edu.stanford.nlp.pipeline.StanfordCoreNLP -file nlp.txt`\n",
    "\n",
    "- root\n",
    "    0. docID\n",
    "    1. sentences\n",
    "        - sentence\n",
    "            - tokens\n",
    "                - token \n",
    "                    0. word\n",
    "                    1. lemma\n",
    "                    2. CharacterOffsetBegin\n",
    "                    3. CharacterOffsetEnd\n",
    "                    4. POS\n",
    "                    5. NER\n",
    "                    6. Speaker    \n",
    "            - dependencies\n",
    "                - dep\n",
    "                    0. governor\n",
    "                    1. dependent\n",
    "    2. coreferences\n",
    "        - coreference\n",
    "            - mention\n",
    "                0. sentence\n",
    "                1. start\n",
    "                2. end\n",
    "                3. head\n",
    "                4. text\n",
    "        "
   ]
  },
  {
   "cell_type": "code",
   "execution_count": null,
   "metadata": {},
   "outputs": [],
   "source": [
    "tree = ET.parse(\"data/nlp.txt.xml\")\n",
    "root = tree.getroot()\n",
    "\n",
    "for token in root.iter('token'):\n",
    "    1\n",
    "    #print(token[0].text)"
   ]
  },
  {
   "cell_type": "markdown",
   "metadata": {},
   "source": [
    "## 54. 品詞タグ付け\n",
    "Stanford Core NLPの解析結果XMLを読み込み，単語，レンマ，品詞をタブ区切り形式で出力せよ．"
   ]
  },
  {
   "cell_type": "code",
   "execution_count": null,
   "metadata": {},
   "outputs": [],
   "source": [
    "tree = ET.parse(\"data/nlp.txt.xml\")\n",
    "root = tree.getroot()\n",
    "\n",
    "for token in root.iter('token'):\n",
    "    line = '\\t'.join(map(lambda i: token[i].text, [0,1,4]))\n",
    "    #print(line)"
   ]
  },
  {
   "cell_type": "markdown",
   "metadata": {},
   "source": [
    "## 55. 固有表現抽出\n",
    "入力文中の人名をすべて抜き出せ．"
   ]
  },
  {
   "cell_type": "code",
   "execution_count": null,
   "metadata": {},
   "outputs": [],
   "source": [
    "tree = ET.parse(\"data/nlp.txt.xml\")\n",
    "root = tree.getroot()\n",
    "\n",
    "for token in root.iter('token'):\n",
    "    if token[5].text == \"PERSON\":\n",
    "        print(token[0].text)"
   ]
  },
  {
   "cell_type": "markdown",
   "metadata": {},
   "source": [
    "## 56. 共参照解析\n",
    "Stanford Core NLPの共参照解析の結果に基づき，文中の参照表現（mention）を代表参照表現（representative mention）に置換せよ．ただし，置換するときは，「代表参照表現（参照表現）」のように，元の参照表現が分かるように配慮せよ．\n",
    "\n",
    "### memo\n",
    "- mention\n",
    "                0. sentence 何文目\n",
    "                1. start (token)\n",
    "                2. end (token)\n",
    "                3. head\n",
    "                4. text\n",
    "\n",
    "sentence, token ID のcharacteroffsetbegin / end の範囲を置換する"
   ]
  },
  {
   "cell_type": "code",
   "execution_count": null,
   "metadata": {},
   "outputs": [],
   "source": [
    "tree = ET.parse(\"data/nlp.txt.xml\")\n",
    "root = tree.getroot()\n",
    "\n",
    "sub_list = []\n",
    "for coreference in root[0][2]:\n",
    "    for mention in coreference:\n",
    "        if mention.attrib: # representative\n",
    "            rep =  mention[4].text\n",
    "        else:\n",
    "            _sid, _ts, _te, _, ment = [attr.text for attr in mention]\n",
    "            sentence_id, token_start, token_end = int(_sid)-1, int(_ts)-1, int(_te)-2\n",
    "            start = int(root[0][1][sentence_id][0][token_start][2].text)\n",
    "            end = int(root[0][1][sentence_id][0][token_end][3].text)\n",
    "            if rep != ment:\n",
    "                sub_list.append((start, end, rep, ment)) \n",
    "\n",
    "sub_list.sort(key= lambda t: -t[1])\n",
    "\n",
    "with open(textpath) as text, open(\"out/56.txt\" , 'w') as out:\n",
    "    string = text.read()\n",
    "    for start, end, rep, ment in sub_list:\n",
    "        repl = rep + '(' + ment + ')'\n",
    "        string = string[:start] + re.sub(ment, repl, string[start:],1)\n",
    "        \n",
    "    out.write(string)"
   ]
  },
  {
   "cell_type": "markdown",
   "metadata": {},
   "source": [
    "## 57. 係り受け解析\n",
    "Stanford Core NLPの係り受け解析の結果（collapsed-dependencies）を有向グラフとして可視化せよ．可視化には，係り受け木をDOT言語に変換し，Graphvizを用いるとよい．また，Pythonから有向グラフを直接的に可視化するには，pydotを使うとよい．"
   ]
  },
  {
   "cell_type": "code",
   "execution_count": 21,
   "metadata": {},
   "outputs": [
    {
     "name": "stdout",
     "output_type": "stream",
     "text": [
      "50 / 50 Done\r"
     ]
    },
    {
     "data": {
      "image/png": "[encoded data removed]",
      "text/plain": [
       "<Figure size 432x288 with 1 Axes>"
      ]
     },
     "metadata": {},
     "output_type": "display_data"
    }
   ],
   "source": [
    "%matplotlib inline\n",
    "import networkx as nx\n",
    "import matplotlib.pyplot as plt\n",
    "from matplotlib.backends.backend_pdf import PdfPages\n",
    "\n",
    "tree = ET.parse(\"data/nlp.txt.xml\")\n",
    "root = tree.getroot()\n",
    "\n",
    "sentences = root.find('*/sentences')\n",
    "whole = len(sentences)\n",
    "\n",
    "with PdfPages(\"img/57.pdf\") as pdf:\n",
    "    for sentence in sentences:\n",
    "        sid = sentence.get('id')\n",
    "\n",
    "        # generate labels\n",
    "        node_label = {'0': 'ROOT'}\n",
    "        for token in sentence.find('tokens'):\n",
    "            node_label[token.get('id')] = token[0].text\n",
    "\n",
    "        # generate graph\n",
    "        G = nx.DiGraph()\n",
    "        G.add_nodes_from(node_label.keys())\n",
    "        for dep in sentence.find('dependencies[@type=\"collapsed-dependencies\"]'):\n",
    "            G.add_edge(*tuple(elm.get('idx') for elm in dep))\n",
    "\n",
    "        # draw graph\n",
    "        plt.clf()\n",
    "        plt.title(\"collapsed-dependencies: sentence\"+sid)\n",
    "        settings = {\n",
    "            'pos': nx.spring_layout(G, k=1.5, pos=nx.spectral_layout(G)),\n",
    "            'node_size': 100,\n",
    "            'node_color': '#afeeee',\n",
    "            'edge_color': '#888888',\n",
    "            'labels': node_label,\n",
    "            'with_label': True,\n",
    "            'font_size': 5,\n",
    "        }\n",
    "        nx.draw(G, **settings)\n",
    "        \n",
    "        # save figure to pdf\n",
    "        pdf.savefig()\n",
    "        print(sid,\"/\",whole,\"Done\", end=\"\\r\")\n",
    "\n",
    "plt.show()"
   ]
  },
  {
   "cell_type": "markdown",
   "metadata": {},
   "source": [
    "## 58. タプルの抽出\n",
    "Stanford Core NLPの係り受け解析の結果（collapsed-dependencies）に基づき，「主語 述語 目的語」の組をタブ区切り形式で出力せよ．ただし，主語，述語，目的語の定義は以下を参考にせよ．\n",
    "\n",
    "- 述語: nsubj関係とdobj関係の子（dependant）を持つ単語\n",
    "- 主語: 述語からnsubj関係にある子（dependent）\n",
    "- 目的語: 述語からdobj関係にある子（dependent）\n",
    "\n",
    "### memo\n",
    "動詞ID→主語ID, 目的語IDの辞書をつくってkeyの共通部分を抽出"
   ]
  },
  {
   "cell_type": "code",
   "execution_count": 20,
   "metadata": {},
   "outputs": [
    {
     "name": "stdout",
     "output_type": "stream",
     "text": [
      "understanding\tinvolve\tgeneration\n",
      "Turing\tpublished\tarticle\n",
      "experiment\tinvolved\ttranslation\n",
      "ELIZA\tprovided\tinteraction\n",
      "patient\texceeded\tbase\n",
      "ELIZA\tprovide\tresponse\n",
      "which\tstructured\tinformation\n",
      "that\tunderlies\tapproach\n",
      "underpinnings\tdiscouraged\tsort\n",
      "Some\tproduced\tsystems\n",
      "which\tmake\tdecisions\n",
      "that\tcontains\terrors\n",
      "implementations\tinvolved\tcoding\n",
      "algorithms\ttake\tset\n",
      "Some\tproduced\tsystems\n",
      "which\tmake\tdecisions\n",
      "they\texpress\tcertainty\n",
      "models\thave\tadvantage\n",
      "Systems\thave\tadvantages\n",
      "procedures\tmake\tuse\n",
      "that\tmake\tdecisions\n"
     ]
    }
   ],
   "source": [
    "from collections import defaultdict\n",
    "\n",
    "def get_word_from_id(sentence, str_id):\n",
    "    return sentence[0][int(str_id)-1][0].text\n",
    "    \n",
    "\n",
    "tree = ET.parse(\"data/nlp.txt.xml\")\n",
    "root = tree.getroot()\n",
    "\n",
    "sentences = root.find('*/sentences')\n",
    "for sentence in sentences:\n",
    "    v2s, v2o = {}, {}\n",
    "    for dep in sentence.find('dependencies[@type=\"collapsed-dependencies\"]'):\n",
    "        g, d = [elm.get('idx') for elm in dep]\n",
    "        if dep.get('type') == \"nsubj\":\n",
    "            v2s[g] = d\n",
    "        elif dep.get('type') == \"dobj\":\n",
    "            v2o[g] = d\n",
    "            \n",
    "    verbs = list(set(v2s.keys()) & set(v2o.keys()))\n",
    "    if verbs:\n",
    "        for verb in verbs:\n",
    "            svo = [get_word_from_id(sentence, str_id) for str_id in [v2s[verb], verb, v2o[verb]]]\n",
    "            print('\\t'.join(svo))"
   ]
  },
  {
   "cell_type": "markdown",
   "metadata": {},
   "source": [
    "## 59. S式の解析\n",
    "Stanford Core NLPの句構造解析の結果（S式）を読み込み，文中のすべての名詞句（NP）を表示せよ．入れ子になっている名詞句もすべて表示すること．"
   ]
  },
  {
   "cell_type": "code",
   "execution_count": null,
   "metadata": {},
   "outputs": [],
   "source": []
  }
 ],
 "metadata": {
  "kernelspec": {
   "display_name": "Python 3",
   "language": "python",
   "name": "python3"
  },
  "language_info": {
   "codemirror_mode": {
    "name": "ipython",
    "version": 3
   },
   "file_extension": ".py",
   "mimetype": "text/x-python",
   "name": "python",
   "nbconvert_exporter": "python",
   "pygments_lexer": "ipython3",
   "version": "3.7.2"
  }
 },
 "nbformat": 4,
 "nbformat_minor": 2
}
