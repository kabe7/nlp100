{
 "cells": [
  {
   "cell_type": "code",
   "execution_count": 2,
   "metadata": {},
   "outputs": [],
   "source": [
    "# common\n",
    "import re\n",
    "import xml.etree.ElementTree as ET\n",
    "textpath = \"data/nlp.txt\"\n"
   ]
  },
  {
   "cell_type": "markdown",
   "metadata": {},
   "source": [
    "## 50. 文区切り\n",
    "(. or ; or : or ? or !) → 空白文字 → 英大文字というパターンを文の区切りと見なし，入力された文書を1行1文の形式で出力せよ．"
   ]
  },
  {
   "cell_type": "code",
   "execution_count": 3,
   "metadata": {},
   "outputs": [],
   "source": [
    "with open(textpath) as text, open(\"out/50.txt\", \"w\") as f:\n",
    "    f.write(re.sub(r\"(?<=[.;:?!])\\s(?=[A-Z])\", \"\\n\", text.read()))"
   ]
  },
  {
   "cell_type": "markdown",
   "metadata": {},
   "source": [
    "## 51. 単語の切り出し\n",
    "空白を単語の区切りとみなし，50の出力を入力として受け取り，1行1単語の形式で出力せよ．ただし，文の終端では空行を出力せよ．"
   ]
  },
  {
   "cell_type": "code",
   "execution_count": 4,
   "metadata": {},
   "outputs": [],
   "source": [
    "with open(\"out/50.txt\") as text, open(\"out/51.txt\", \"w\") as f:\n",
    "    space2nl = re.sub(\"\\s\", \"\\n\", text.read())\n",
    "    new_text = re.sub(\"\\.\\n\", \".\\n\\n\", space2nl)\n",
    "    f.write(new_text)"
   ]
  },
  {
   "cell_type": "markdown",
   "metadata": {},
   "source": [
    "## 52. ステミング\n",
    "51の出力を入力として受け取り，Porterのステミングアルゴリズムを適用し，単語と語幹をタブ区切り形式で出力せよ． Pythonでは，Porterのステミングアルゴリズムの実装としてstemmingモジュールを利用するとよい．"
   ]
  },
  {
   "cell_type": "code",
   "execution_count": 5,
   "metadata": {},
   "outputs": [],
   "source": [
    "from nltk.stem.porter import PorterStemmer as PS\n",
    "ps = PS()\n",
    "\n",
    "with open(\"out/51.txt\") as words, open(\"out/52.txt\", \"w\") as f:\n",
    "    for word in words:\n",
    "        f.write(word.strip() + \"\\t\" + ps.stem(word.strip()) + \"\\n\")"
   ]
  },
  {
   "cell_type": "markdown",
   "metadata": {},
   "source": [
    "## 53. Tokenization\n",
    "Stanford Core NLPを用い，入力テキストの解析結果をXML形式で得よ．また，このXMLファイルを読み込み，入力テキストを1行1単語の形式で出力せよ．\n",
    "\n",
    "### memo\n",
    "`java -cp \"~/Documents/stanford-corenlp-full-2018-10-05/*\" edu.stanford.nlp.pipeline.StanfordCoreNLP -annotators tokenize,ssplit,pos,lemma,ner,parse,dcoref -file nlp.txt`\n",
    "\n",
    "- root\n",
    "    0. docID\n",
    "    1. sentences\n",
    "        - sentence\n",
    "            - tokens\n",
    "                - token \n",
    "                    0. word\n",
    "                    1. lemma\n",
    "                    2. CharacterOffsetBegin\n",
    "                    3. CharacterOffsetEnd\n",
    "                    4. POS\n",
    "                    5. NER\n",
    "                    6. Speaker    \n",
    "            - dependencies\n",
    "                - dep\n",
    "                    0. governor\n",
    "                    1. dependent\n",
    "    2. coreferences\n",
    "        - coreference\n",
    "            - mention\n",
    "                0. sentence\n",
    "                1. start\n",
    "                2. end\n",
    "                3. head\n",
    "                4. text\n",
    "        "
   ]
  },
  {
   "cell_type": "code",
   "execution_count": 6,
   "metadata": {},
   "outputs": [],
   "source": [
    "tree = ET.parse(\"data/nlp.txt.xml\")\n",
    "root = tree.getroot()\n",
    "\n",
    "for token in root.iter('token'):\n",
    "    1\n",
    "    #print(token[0].text)"
   ]
  },
  {
   "cell_type": "markdown",
   "metadata": {},
   "source": [
    "## 54. 品詞タグ付け\n",
    "Stanford Core NLPの解析結果XMLを読み込み，単語，レンマ，品詞をタブ区切り形式で出力せよ．"
   ]
  },
  {
   "cell_type": "code",
   "execution_count": 7,
   "metadata": {},
   "outputs": [],
   "source": [
    "tree = ET.parse(\"data/nlp.txt.xml\")\n",
    "root = tree.getroot()\n",
    "\n",
    "for token in root.iter('token'):\n",
    "    line = '\\t'.join(map(lambda i: token[i].text, [0,1,4]))\n",
    "    #print(line)"
   ]
  },
  {
   "cell_type": "markdown",
   "metadata": {},
   "source": [
    "## 55. 固有表現抽出\n",
    "入力文中の人名をすべて抜き出せ．"
   ]
  },
  {
   "cell_type": "code",
   "execution_count": 8,
   "metadata": {},
   "outputs": [
    {
     "name": "stdout",
     "output_type": "stream",
     "text": [
      "Alan\n",
      "Turing\n",
      "Joseph\n",
      "Weizenbaum\n",
      "MARGIE\n",
      "Schank\n",
      "Wilensky\n",
      "Meehan\n",
      "Lehnert\n",
      "Carbonell\n",
      "Lehnert\n",
      "Racter\n",
      "Jabberwacky\n",
      "Moore\n"
     ]
    }
   ],
   "source": [
    "tree = ET.parse(\"data/nlp.txt.xml\")\n",
    "root = tree.getroot()\n",
    "\n",
    "for token in root.iter('token'):\n",
    "    if token[5].text == \"PERSON\":\n",
    "        print(token[0].text)"
   ]
  },
  {
   "cell_type": "markdown",
   "metadata": {},
   "source": [
    "## 56. 共参照解析\n",
    "Stanford Core NLPの共参照解析の結果に基づき，文中の参照表現（mention）を代表参照表現（representative mention）に置換せよ．ただし，置換するときは，「代表参照表現（参照表現）」のように，元の参照表現が分かるように配慮せよ．\n",
    "\n",
    "### memo\n",
    "- mention\n",
    "                0. sentence 何文目\n",
    "                1. start (token)\n",
    "                2. end (token)\n",
    "                3. head\n",
    "                4. text\n",
    "\n",
    "sentence, token ID のcharacteroffsetbegin / end の範囲を置換する"
   ]
  },
  {
   "cell_type": "code",
   "execution_count": 9,
   "metadata": {},
   "outputs": [],
   "source": [
    "tree = ET.parse(\"data/nlp.txt.xml\")\n",
    "root = tree.getroot()\n",
    "\n",
    "sub_list = []\n",
    "for coreference in root[0][2]:\n",
    "    for mention in coreference:\n",
    "        if mention.attrib: # representative\n",
    "            rep =  mention[4].text\n",
    "        else:\n",
    "            _sid, _ts, _te, _, ment = [attr.text for attr in mention]\n",
    "            sentence_id, token_start, token_end = int(_sid)-1, int(_ts)-1, int(_te)-2\n",
    "            start = int(root[0][1][sentence_id][0][token_start][2].text)\n",
    "            end = int(root[0][1][sentence_id][0][token_end][3].text)\n",
    "            if rep != ment:\n",
    "                sub_list.append((start, end, rep, ment)) \n",
    "\n",
    "sub_list.sort(key= lambda t: -t[1])\n",
    "\n",
    "with open(textpath) as text, open(\"out/56.txt\" , 'w') as out:\n",
    "    string = text.read()\n",
    "    for start, end, rep, ment in sub_list:\n",
    "        repl = rep + '(' + ment + ')'\n",
    "        string = string[:start] + re.sub(ment, repl, string[start:],1)\n",
    "        \n",
    "    out.write(string)"
   ]
  },
  {
   "cell_type": "markdown",
   "metadata": {},
   "source": [
    "## 57. 係り受け解析\n",
    "Stanford Core NLPの係り受け解析の結果（collapsed-dependencies）を有向グラフとして可視化せよ．可視化には，係り受け木をDOT言語に変換し，Graphvizを用いるとよい．また，Pythonから有向グラフを直接的に可視化するには，pydotを使うとよい．"
   ]
  },
  {
   "cell_type": "code",
   "execution_count": 10,
   "metadata": {},
   "outputs": [
    {
     "name": "stdout",
     "output_type": "stream",
     "text": [
      "50 / 50 Done\r"
     ]
    },
    {
     "data": {
      "image/png": "[encoded data removed]",
      "text/plain": [
       "<Figure size 432x288 with 1 Axes>"
      ]
     },
     "metadata": {},
     "output_type": "display_data"
    }
   ],
   "source": [
    "%matplotlib inline\n",
    "import networkx as nx\n",
    "import matplotlib.pyplot as plt\n",
    "from matplotlib.backends.backend_pdf import PdfPages\n",
    "\n",
    "tree = ET.parse(\"data/nlp.txt.xml\")\n",
    "root = tree.getroot()\n",
    "\n",
    "sentences = root.find('*/sentences')\n",
    "whole = len(sentences)\n",
    "\n",
    "with PdfPages(\"img/57.pdf\") as pdf:\n",
    "    for sentence in sentences:\n",
    "        sid = sentence.get('id')\n",
    "\n",
    "        # generate labels\n",
    "        node_label = {'0': 'ROOT'}\n",
    "        for token in sentence.find('tokens'):\n",
    "            node_label[token.get('id')] = token[0].text\n",
    "\n",
    "        # generate graph\n",
    "        G = nx.DiGraph()\n",
    "        G.add_nodes_from(node_label.keys())\n",
    "        for dep in sentence.find('dependencies[@type=\"collapsed-dependencies\"]'):\n",
    "            G.add_edge(*tuple(elm.get('idx') for elm in dep))\n",
    "\n",
    "        # draw graph\n",
    "        plt.clf()\n",
    "        plt.title(\"collapsed-dependencies: sentence\"+sid)\n",
    "        settings = {\n",
    "            'pos': nx.spring_layout(G, k=1.5, pos=nx.spectral_layout(G)),\n",
    "            'node_size': 100,\n",
    "            'node_color': '#afeeee',\n",
    "            'edge_color': '#888888',\n",
    "            'labels': node_label,\n",
    "            'with_label': True,\n",
    "            'font_size': 5,\n",
    "        }\n",
    "        nx.draw(G, **settings)\n",
    "        \n",
    "        # save figure to pdf\n",
    "        pdf.savefig()\n",
    "        print(sid,\"/\",whole,\"Done\", end=\"\\r\")\n",
    "\n",
    "plt.show()"
   ]
  },
  {
   "cell_type": "markdown",
   "metadata": {},
   "source": [
    "## 58. タプルの抽出\n",
    "Stanford Core NLPの係り受け解析の結果（collapsed-dependencies）に基づき，「主語 述語 目的語」の組をタブ区切り形式で出力せよ．ただし，主語，述語，目的語の定義は以下を参考にせよ．\n",
    "\n",
    "- 述語: nsubj関係とdobj関係の子（dependant）を持つ単語\n",
    "- 主語: 述語からnsubj関係にある子（dependent）\n",
    "- 目的語: 述語からdobj関係にある子（dependent）\n",
    "\n",
    "### memo\n",
    "動詞ID→主語ID, 目的語IDの辞書をつくってkeyの共通部分を抽出"
   ]
  },
  {
   "cell_type": "code",
   "execution_count": 11,
   "metadata": {},
   "outputs": [
    {
     "name": "stdout",
     "output_type": "stream",
     "text": [
      "understanding\tenabling\tcomputers\n",
      "others\tinvolve\tgeneration\n",
      "Turing\tpublished\tarticle\n",
      "experiment\tinvolved\ttranslation\n",
      "ELIZA\tprovided\tinteraction\n",
      "patient\texceeded\tbase\n",
      "ELIZA\tprovide\tresponse\n",
      "which\tstructured\tinformation\n",
      "that\tunderlies\tapproach\n",
      "underpinnings\tdiscouraged\tsort\n",
      "Some\tproduced\tsystems\n",
      "which\tmake\tdecisions\n",
      "systems\trely\twhich\n",
      "that\tcontains\terrors\n",
      "implementations\tinvolved\tcoding\n",
      "algorithms\ttake\tset\n",
      "Some\tproduced\tsystems\n",
      "which\tmake\tdecisions\n",
      "models\thave\tadvantage\n",
      "they\texpress\tcertainty\n",
      "Systems\thave\tadvantages\n",
      "Automatic\tmake\tuse\n",
      "that\tmake\tdecisions\n"
     ]
    }
   ],
   "source": [
    "from collections import defaultdict\n",
    "\n",
    "def get_word_from_id(sentence, str_id):\n",
    "    return sentence[0][int(str_id)-1][0].text\n",
    "    \n",
    "\n",
    "tree = ET.parse(\"data/nlp.txt.xml\")\n",
    "root = tree.getroot()\n",
    "\n",
    "sentences = root.find('*/sentences')\n",
    "for sentence in sentences:\n",
    "    v2s, v2o = {}, {}\n",
    "    for dep in sentence.find('dependencies[@type=\"collapsed-dependencies\"]'):\n",
    "        g, d = [elm.get('idx') for elm in dep]\n",
    "        if dep.get('type') == \"nsubj\":\n",
    "            v2s[g] = d\n",
    "        elif dep.get('type') == \"dobj\":\n",
    "            v2o[g] = d\n",
    "            \n",
    "    verbs = list(set(v2s.keys()) & set(v2o.keys()))\n",
    "    if verbs:\n",
    "        for verb in verbs:\n",
    "            svo = [get_word_from_id(sentence, str_id) for str_id in [v2s[verb], verb, v2o[verb]]]\n",
    "            print('\\t'.join(svo))"
   ]
  },
  {
   "cell_type": "markdown",
   "metadata": {},
   "source": [
    "## 59. S式の解析\n",
    "Stanford Core NLPの句構造解析の結果（S式）を読み込み，文中のすべての名詞句（NP）を表示せよ．入れ子になっている名詞句もすべて表示すること．"
   ]
  },
  {
   "cell_type": "code",
   "execution_count": 120,
   "metadata": {},
   "outputs": [
    {
     "name": "stdout",
     "output_type": "stream",
     "text": [
      "--------------------------------------------------\n",
      "Natural language processing From Wikipedia , the free encyclopedia Natural language processing ( NLP ) is a field of computer science , artificial intelligence , and linguistics concerned with the interactions between computers and human ( natural ) languages .\n",
      "----------\n",
      "--------------------------------------------------\n",
      "As such , NLP is related to the area of humani-computer interaction .\n",
      "----------\n",
      "--------------------------------------------------\n",
      "Many challenges in NLP involve natural language understanding , that is , enabling computers to derive meaning from human or natural language input , and others involve natural language generation .\n",
      "----------\n",
      "--------------------------------------------------\n",
      "History The history of NLP generally starts in the 1950s , although work can be found from earlier periods .\n",
      "----------\n",
      "--------------------------------------------------\n",
      "In 1950 , Alan Turing published an article titled `` Computing Machinery and Intelligence '' which proposed what is now called the Turing test as a criterion of intelligence .\n",
      "----------\n",
      "--------------------------------------------------\n",
      "The Georgetown experiment in 1954 involved fully automatic translation of more than sixty Russian sentences into English .\n",
      "----------\n",
      "--------------------------------------------------\n",
      "The authors claimed that within three or five years , machine translation would be a solved problem .\n",
      "----------\n",
      "--------------------------------------------------\n",
      "However , real progress was much slower , and after the ALPAC report in 1966 , which found that ten year long research had failed to fulfill the expectations , funding for machine translation was dramatically reduced .\n",
      "----------\n",
      "--------------------------------------------------\n",
      "Little further research in machine translation was conducted until the late 1980s , when the first statistical machine translation systems were developed .\n",
      "----------\n",
      "--------------------------------------------------\n",
      "Some notably successful NLP systems developed in the 1960s were SHRDLU , a natural language system working in restricted `` blocks worlds '' with restricted vocabularies , and ELIZA , a simulation of a Rogerian psychotherapist , written by Joseph Weizenbaum between 1964 to 1966 .\n",
      "----------\n",
      "--------------------------------------------------\n",
      "Using almost no information about human thought or emotion , ELIZA sometimes provided a startlingly human-like interaction .\n",
      "----------\n",
      "--------------------------------------------------\n",
      "When the `` patient '' exceeded the very small knowledge base , ELIZA might provide a generic response , for example , responding to `` My head hurts '' with `` Why do you say your head hurts ? ''\n",
      "----------\n",
      "--------------------------------------------------\n",
      ".\n",
      "----------\n",
      "--------------------------------------------------\n",
      "During the 1970s many programmers began to write ` conceptual ontologies ' , which structured real-world information into computer-understandable data .\n",
      "----------\n",
      "--------------------------------------------------\n",
      "Examples are MARGIE ( Schank , 1975 ) , SAM ( Cullingford , 1978 ) , PAM ( Wilensky , 1978 ) , TaleSpin ( Meehan , 1976 ) , QUALM ( Lehnert , 1977 ) , Politics ( Carbonell , 1979 ) , and Plot Units ( Lehnert 1981 ) .\n",
      "----------\n",
      "--------------------------------------------------\n",
      "During this time , many chatterbots were written including PARRY , Racter , and Jabberwacky .\n",
      "----------\n",
      "--------------------------------------------------\n",
      "Up to the 1980s , most NLP systems were based on complex sets of hand-written rules .\n",
      "----------\n",
      "--------------------------------------------------\n",
      "Starting in the late 1980s , however , there was a revolution in NLP with the introduction of machine learning algorithms for language processing .\n",
      "----------\n",
      "--------------------------------------------------\n",
      "This was due to both the steady increase in computational power resulting from Moore 's Law and the gradual lessening of the dominance of Chomskyan theories of linguistics ( e.g. transformational grammar ) , whose theoretical underpinnings discouraged the sort of corpus linguistics that underlies the machine-learning approach to language processing .\n",
      "----------\n",
      "--------------------------------------------------\n",
      "Some of the earliest-used machine learning algorithms , such as decision trees , produced systems of hard if-then rules similar to existing hand-written rules .\n",
      "----------\n",
      "--------------------------------------------------\n",
      "However , Part of speech tagging introduced the use of Hidden Markov Models to NLP , and increasingly , research has focused on statistical models , which make soft , probabilistic decisions based on attaching real-valued weights to the features making up the input data .\n",
      "----------\n",
      "--------------------------------------------------\n",
      "The cache language models upon which many speech recognition systems now rely are examples of such statistical models .\n",
      "----------\n",
      "--------------------------------------------------\n",
      "Such models are generally more robust when given unfamiliar input , especially input that contains errors ( as is very common for real-world data ) , and produce more reliable results when integrated into a larger system comprising multiple subtasks .\n",
      "----------\n",
      "--------------------------------------------------\n",
      "Many of the notable early successes occurred in the field of machine translation , due especially to work at IBM Research , where successively more complicated statistical models were developed .\n",
      "----------\n",
      "--------------------------------------------------\n",
      "These systems were able to take advantage of existing multilingual textual corpora that had been produced by the Parliament of Canada and the European Union as a result of laws calling for the translation of all governmental proceedings into all official languages of the corresponding systems of government .\n",
      "----------\n",
      "--------------------------------------------------\n",
      "However , most other systems depended on corpora specifically developed for the tasks implemented by these systems , which was ( and often continues to be ) a major limitation in the success of these systems .\n",
      "----------\n",
      "--------------------------------------------------\n",
      "As a result , a great deal of research has gone into methods of more effectively learning from limited amounts of data .\n",
      "----------\n",
      "--------------------------------------------------\n",
      "Recent research has increasingly focused on unsupervised and semi-supervised learning algorithms .\n",
      "----------\n",
      "--------------------------------------------------\n",
      "Such algorithms are able to learn from data that has not been hand-annotated with the desired answers , or using a combination of annotated and non-annotated data .\n",
      "----------\n",
      "--------------------------------------------------\n",
      "Generally , this task is much more difficult than supervised learning , and typically produces less accurate results for a given amount of input data .\n",
      "----------\n",
      "--------------------------------------------------\n",
      "However , there is an enormous amount of non-annotated data available ( including , among other things , the entire content of the World Wide Web ) , which can often make up for the inferior results .\n",
      "----------\n",
      "--------------------------------------------------\n",
      "NLP using machine learning Modern NLP algorithms are based on machine learning , especially statistical machine learning .\n",
      "----------\n",
      "--------------------------------------------------\n",
      "The paradigm of machine learning is different from that of most prior attempts at language processing .\n",
      "----------\n",
      "--------------------------------------------------\n",
      "Prior implementations of language-processing tasks typically involved the direct hand coding of large sets of rules .\n",
      "----------\n",
      "--------------------------------------------------\n",
      "The machine-learning paradigm calls instead for using general learning algorithms - often , although not always , grounded in statistical inference - to automatically learn such rules through the analysis of large corpora of typical real-world examples .\n",
      "----------\n",
      "--------------------------------------------------\n",
      "A corpus ( plural , `` corpora '' ) is a set of documents ( or sometimes , individual sentences ) that have been hand-annotated with the correct values to be learned .\n",
      "----------\n",
      "--------------------------------------------------\n",
      "Many different classes of machine learning algorithms have been applied to NLP tasks .\n",
      "----------\n",
      "--------------------------------------------------\n",
      "These algorithms take as input a large set of `` features '' that are generated from the input data .\n",
      "----------\n",
      "--------------------------------------------------\n",
      "Some of the earliest-used algorithms , such as decision trees , produced systems of hard if-then rules similar to the systems of hand-written rules that were then common .\n",
      "----------\n",
      "--------------------------------------------------\n",
      "Increasingly , however , research has focused on statistical models , which make soft , probabilistic decisions based on attaching real-valued weights to each input feature .\n",
      "----------\n",
      "--------------------------------------------------\n",
      "Such models have the advantage that they can express the relative certainty of many different possible answers rather than only one , producing more reliable results when such a model is included as a component of a larger system .\n",
      "----------\n",
      "--------------------------------------------------\n",
      "Systems based on machine-learning algorithms have many advantages over hand-produced rules : The learning procedures used during machine learning automatically focus on the most common cases , whereas when writing rules by hand it is often not obvious at all where the effort should be directed .\n",
      "----------\n",
      "--------------------------------------------------\n",
      "Automatic learning procedures can make use of statistical inference algorithms to produce models that are robust to unfamiliar input ( e.g. containing words or structures that have not been seen before ) and to erroneous input ( e.g. with misspelled words or words accidentally omitted ) .\n",
      "----------\n",
      "--------------------------------------------------\n",
      "Generally , handling such input gracefully with hand-written rules -- or more generally , creating systems of hand-written rules that make soft decisions -- extremely difficult , error-prone and time-consuming .\n",
      "----------\n",
      "--------------------------------------------------\n",
      "Systems based on automatically learning the rules can be made more accurate simply by supplying more input data .\n",
      "----------\n",
      "--------------------------------------------------\n",
      "However , systems based on hand-written rules can only be made more accurate by increasing the complexity of the rules , which is a much more difficult task .\n",
      "----------\n",
      "--------------------------------------------------\n",
      "In particular , there is a limit to the complexity of systems based on hand-crafted rules , beyond which the systems become more and more unmanageable .\n",
      "----------\n",
      "--------------------------------------------------\n",
      "However , creating more data to input to machine-learning systems simply requires a corresponding increase in the number of man-hours worked , generally without significant increases in the complexity of the annotation process .\n",
      "----------\n",
      "--------------------------------------------------\n",
      "The subfield of NLP devoted to learning approaches is known as Natural Language Learning ( NLL ) and its conference CoNLL and peak body SIGNLL are sponsored by ACL , recognizing also their links with Computational Linguistics and Language Acquisition .\n",
      "----------\n",
      "--------------------------------------------------\n",
      "When the aims of computational language learning research is to understand more about human language acquisition , or psycholinguistics , NLL overlaps into the related field of Computational Psycholinguistics .\n",
      "----------\n"
     ]
    }
   ],
   "source": [
    "tree = ET.parse(\"data/nlp.txt.xml\")\n",
    "root = tree.getroot()\n",
    "\n",
    "def tuple_printer(t):\n",
    "    pos, *rest = t\n",
    "    res = ' '.join([tuple_printer(r) if type(r) is tuple else r for r in rest])\n",
    "    rb2bracket = res.replace('-LRB-', '(').replace('-RRB-', ')')\n",
    "    return rb2bracket\n",
    "\n",
    "def find_np(t, out):\n",
    "    if type(t) is tuple:\n",
    "        pos, *rest = t\n",
    "        if pos == 'NP':\n",
    "            out.write(tuple_printer(t)+'\\n')\n",
    "            \n",
    "        for tup in rest:\n",
    "            find_np(tup, out)\n",
    "\n",
    "with open(\"out/59.txt\", 'w') as out:\n",
    "    for s in root.iter('parse'):\n",
    "        print('-'*50)\n",
    "        # convert S-representation to Python tuple\n",
    "        give_doublequotation = re.sub(r\"(?P<content>[^ \\s()]+)\", '\"\\g<content>\"', s.text)\n",
    "        tuple_representation = re.sub(r\"\\s\", \", \", give_doublequotation)[:-2]\n",
    "        s_tuple = eval(tuple_representation)\n",
    "        print(tuple_printer(s_tuple))\n",
    "        print('-'*10)\n",
    "        find_np(s_tuple, out)\n",
    "\n",
    "\n"
   ]
  },
  {
   "cell_type": "code",
   "execution_count": null,
   "metadata": {},
   "outputs": [],
   "source": []
  }
 ],
 "metadata": {
  "kernelspec": {
   "display_name": "Python 3",
   "language": "python",
   "name": "python3"
  },
  "language_info": {
   "codemirror_mode": {
    "name": "ipython",
    "version": 3
   },
   "file_extension": ".py",
   "mimetype": "text/x-python",
   "name": "python",
   "nbconvert_exporter": "python",
   "pygments_lexer": "ipython3",
   "version": "3.7.0"
  }
 },
 "nbformat": 4,
 "nbformat_minor": 2
}
