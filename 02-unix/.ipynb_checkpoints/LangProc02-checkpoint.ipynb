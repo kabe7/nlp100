{
 "cells": [
  {
   "cell_type": "markdown",
   "metadata": {},
   "source": [
    "## 10. 行数のカウント\n",
    "行数をカウントせよ．確認にはwcコマンドを用いよ．\n",
    "\n",
    "Unix:\n",
    "`wc hightemp.txt`"
   ]
  },
  {
   "cell_type": "code",
   "execution_count": 1,
   "metadata": {},
   "outputs": [
    {
     "name": "stdout",
     "output_type": "stream",
     "text": [
      "24\n"
     ]
    }
   ],
   "source": [
    "with open(\"hightemp.txt\",'r') as f:\n",
    "    counter = 0\n",
    "    for _ in f.readlines():\n",
    "        counter += 1\n",
    "    \n",
    "print(counter)"
   ]
  },
  {
   "cell_type": "markdown",
   "metadata": {},
   "source": [
    "## 11. タブをスペースに置換\n",
    "タブ1文字につきスペース1文字に置換せよ．確認にはsedコマンド，trコマンド，もしくはexpandコマンドを用いよ．\n",
    "\n",
    "Unix:  \n",
    "`expand hightemp.txt`  \n",
    "`sed -e 's/^\\t/\"\"/g' source.txt`\n",
    "\n",
    "[Sedのチートシート](https://qiita.com/hirohiro77/items/7fe2f68781c41777e507)"
   ]
  },
  {
   "cell_type": "code",
   "execution_count": 3,
   "metadata": {},
   "outputs": [
    {
     "name": "stdout",
     "output_type": "stream",
     "text": [
      "高知県 江川崎 41 2013-08-12\n",
      "埼玉県 熊谷 40.9 2007-08-16\n",
      "岐阜県 多治見 40.9 2007-08-16\n",
      "山形県 山形 40.8 1933-07-25\n",
      "山梨県 甲府 40.7 2013-08-10\n",
      "和歌山県 かつらぎ 40.6 1994-08-08\n",
      "静岡県 天竜 40.6 1994-08-04\n",
      "山梨県 勝沼 40.5 2013-08-10\n",
      "埼玉県 越谷 40.4 2007-08-16\n",
      "群馬県 館林 40.3 2007-08-16\n",
      "群馬県 上里見 40.3 1998-07-04\n",
      "愛知県 愛西 40.3 1994-08-05\n",
      "千葉県 牛久 40.2 2004-07-20\n",
      "静岡県 佐久間 40.2 2001-07-24\n",
      "愛媛県 宇和島 40.2 1927-07-22\n",
      "山形県 酒田 40.1 1978-08-03\n",
      "岐阜県 美濃 40 2007-08-16\n",
      "群馬県 前橋 40 2001-07-24\n",
      "千葉県 茂原 39.9 2013-08-11\n",
      "埼玉県 鳩山 39.9 1997-07-05\n",
      "大阪府 豊中 39.9 1994-08-08\n",
      "山梨県 大月 39.9 1990-07-19\n",
      "山形県 鶴岡 39.9 1978-08-03\n",
      "愛知県 名古屋 39.9 1942-08-02\n",
      "\n"
     ]
    }
   ],
   "source": [
    "with open(\"hightemp.txt\",'r') as f:\n",
    "    text = f.read()\n",
    "\n",
    "print(text.replace(\"\\t\",\" \"))"
   ]
  },
  {
   "cell_type": "markdown",
   "metadata": {},
   "source": [
    "## 12. 1列目をcol1.txtに，2列目をcol2.txtに保存\n",
    "各行の1列目だけを抜き出したものをcol1.txtに，2列目だけを抜き出したものをcol2.txtとしてファイルに保存せよ．確認にはcutコマンドを用いよ．\n",
    "\n",
    "unix:  \n",
    "`cut -f 1 hightemp.txt > col1.txt`  \n",
    "`cut -f 2 hightemp.txt > col2.txt`"
   ]
  },
  {
   "cell_type": "code",
   "execution_count": 4,
   "metadata": {},
   "outputs": [],
   "source": [
    "with open(\"hightemp.txt\",'r') as f:\n",
    "    l1, l2 = [], []\n",
    "    for line in f.readlines():\n",
    "        elms = line.split()\n",
    "        l1.append(elms[0])\n",
    "        l2.append(elms[1])\n",
    "\n",
    "with open(\"col1.txt\",'w') as out1:\n",
    "    out1.write('\\n'.join(l1))\n",
    "\n",
    "with open(\"col2.txt\",'w') as out2:\n",
    "    out2.write('\\n'.join(l2))\n"
   ]
  },
  {
   "cell_type": "markdown",
   "metadata": {},
   "source": [
    "## 13. col1.txtとcol2.txtをマージ\n",
    "12で作ったcol1.txtとcol2.txtを結合し，元のファイルの1列目と2列目をタブ区切りで並べたテキストファイルを作成せよ．確認にはpasteコマンドを用いよ．\n",
    "\n",
    "Unix:  \n",
    "`paste col1.txt col2.txt > col12.txt`"
   ]
  },
  {
   "cell_type": "code",
   "execution_count": 8,
   "metadata": {},
   "outputs": [],
   "source": [
    "with open(\"col1.txt\",'r') as in1, open(\"col2.txt\",'r') as in2:\n",
    "    text = []\n",
    "    l1, l2 = [s.strip() for s in in1.readlines()], [s.strip() for s in in2.readlines()]\n",
    "    for c1, c2 in zip(l1, l2):\n",
    "        text.append(c1 + '\\t' + c2)\n",
    "    \n",
    "with open(\"col12.txt\", 'w') as out:\n",
    "    out.write('\\n'.join(text))"
   ]
  },
  {
   "cell_type": "markdown",
   "metadata": {},
   "source": [
    "## 14. 先頭からN行を出力\n",
    "自然数Nをコマンドライン引数などの手段で受け取り，入力のうち先頭のN行だけを表示せよ．確認にはheadコマンドを用いよ\n",
    "\n",
    "UNIX:   \n",
    "`head -n N hightemp.txt`"
   ]
  },
  {
   "cell_type": "code",
   "execution_count": 11,
   "metadata": {},
   "outputs": [
    {
     "name": "stdout",
     "output_type": "stream",
     "text": [
      "高知県\t江川崎\t41\t2013-08-12\n",
      "埼玉県\t熊谷\t40.9\t2007-08-16\n",
      "岐阜県\t多治見\t40.9\t2007-08-16\n",
      "山形県\t山形\t40.8\t1933-07-25\n",
      "山梨県\t甲府\t40.7\t2013-08-10\n",
      "\n"
     ]
    }
   ],
   "source": [
    "def head(n):\n",
    "    with open(\"hightemp.txt\",'r') as f:\n",
    "        text = f.readlines()[:n]\n",
    "    \n",
    "    print(''.join(text))\n",
    "            \n",
    "head(5)"
   ]
  },
  {
   "cell_type": "markdown",
   "metadata": {},
   "source": [
    "## 15. 末尾のN行を出力\n",
    "自然数Nをコマンドライン引数などの手段で受け取り，入力のうち末尾のN行だけを表示せよ．確認にはtailコマンドを用いよ\n",
    "\n",
    "UNIX:   \n",
    "`tail -n N hightemp.txt`"
   ]
  },
  {
   "cell_type": "code",
   "execution_count": 21,
   "metadata": {},
   "outputs": [
    {
     "name": "stdout",
     "output_type": "stream",
     "text": [
      "埼玉県\t鳩山\t39.9\t1997-07-05\n",
      "大阪府\t豊中\t39.9\t1994-08-08\n",
      "山梨県\t大月\t39.9\t1990-07-19\n",
      "山形県\t鶴岡\t39.9\t1978-08-03\n",
      "愛知県\t名古屋\t39.9\t1942-08-02\n",
      "\n"
     ]
    }
   ],
   "source": [
    "def tail(n):\n",
    "    with open(\"hightemp.txt\",'r') as f:\n",
    "        text = f.readlines()[-n:]\n",
    "    \n",
    "    print(''.join(text))\n",
    "            \n",
    "tail(5)"
   ]
  },
  {
   "cell_type": "markdown",
   "metadata": {},
   "source": [
    "## 16. ファイルをN分割する\n",
    "自然数Nをコマンドライン引数などの手段で受け取り，入力のファイルを行単位でN分割せよ．同様の処理をsplitコマンドで実現せよ．\n",
    "\n",
    "UNIX:  \n",
    "`split -l 3 hightemp.txt`"
   ]
  },
  {
   "cell_type": "code",
   "execution_count": 3,
   "metadata": {},
   "outputs": [],
   "source": [
    "import string\n",
    "from itertools import product\n",
    "\n",
    "PREFIX = 'x'\n",
    "alphabet = string.ascii_lowercase\n",
    "namegen = product(PREFIX, alphabet, alphabet)\n",
    "\n",
    "def split(n):\n",
    "    with open(\"hightemp.txt\",'r') as f:\n",
    "        \n",
    "        counter = 0\n",
    "        content = \"\"\n",
    "        for text in f.readlines():\n",
    "            if counter >= n:\n",
    "                name = ''.join(next(namegen))\n",
    "                with open(name, 'w') as out:\n",
    "                    out.write(content)\n",
    "                    \n",
    "                counter, content = 0, \"\"\n",
    "                \n",
    "            content += text\n",
    "            counter += 1\n",
    "            \n",
    "        name = ''.join(next(namegen))\n",
    "        with open(name, 'w') as out:\n",
    "            out.write(content)\n",
    "\n",
    "split(3)"
   ]
  },
  {
   "cell_type": "markdown",
   "metadata": {},
   "source": [
    "## 17. １列目の文字列の異なり\n",
    "1列目の文字列の種類（異なる文字列の集合）を求めよ．確認にはsort, uniqコマンドを用いよ．\n",
    "\n",
    "UNIX:  \n",
    "`sort col1.txt | uniq`"
   ]
  },
  {
   "cell_type": "code",
   "execution_count": 41,
   "metadata": {},
   "outputs": [
    {
     "name": "stdout",
     "output_type": "stream",
     "text": [
      "和歌山県\n",
      "大阪府\n",
      "千葉県\n",
      "高知県\n",
      "愛媛県\n",
      "群馬県\n",
      "埼玉県\n",
      "岐阜県\n",
      "愛知県\n",
      "山梨県\n",
      "静岡県\n",
      "山形県\n"
     ]
    }
   ],
   "source": [
    "with open(\"col1.txt\",'r') as f:\n",
    "    l = [s.strip() for s in f.readlines()]\n",
    "    print('\\n'.join(list(set(l))))"
   ]
  },
  {
   "cell_type": "markdown",
   "metadata": {},
   "source": [
    "## 18. 各行を3コラム目の数値の降順にソート\n",
    "各行を3コラム目の数値の逆順で整列せよ（注意: 各行の内容は変更せずに並び替えよ）．確認にはsortコマンドを用いよ（この問題はコマンドで実行した時の結果と合わなくてもよい）．\n",
    "\n",
    "UNIX:  \n",
    "`sort -k 3 hightemp.txt`"
   ]
  },
  {
   "cell_type": "code",
   "execution_count": 47,
   "metadata": {},
   "outputs": [
    {
     "name": "stdout",
     "output_type": "stream",
     "text": [
      "千葉県\t茂原\t39.9\t2013-08-11\n",
      "埼玉県\t鳩山\t39.9\t1997-07-05\n",
      "大阪府\t豊中\t39.9\t1994-08-08\n",
      "山梨県\t大月\t39.9\t1990-07-19\n",
      "山形県\t鶴岡\t39.9\t1978-08-03\n",
      "愛知県\t名古屋\t39.9\t1942-08-02\n",
      "岐阜県\t美濃\t40\t2007-08-16\n",
      "群馬県\t前橋\t40\t2001-07-24\n",
      "山形県\t酒田\t40.1\t1978-08-03\n",
      "千葉県\t牛久\t40.2\t2004-07-20\n",
      "静岡県\t佐久間\t40.2\t2001-07-24\n",
      "愛媛県\t宇和島\t40.2\t1927-07-22\n",
      "群馬県\t館林\t40.3\t2007-08-16\n",
      "群馬県\t上里見\t40.3\t1998-07-04\n",
      "愛知県\t愛西\t40.3\t1994-08-05\n",
      "埼玉県\t越谷\t40.4\t2007-08-16\n",
      "山梨県\t勝沼\t40.5\t2013-08-10\n",
      "和歌山県\tかつらぎ\t40.6\t1994-08-08\n",
      "静岡県\t天竜\t40.6\t1994-08-04\n",
      "山梨県\t甲府\t40.7\t2013-08-10\n",
      "山形県\t山形\t40.8\t1933-07-25\n",
      "埼玉県\t熊谷\t40.9\t2007-08-16\n",
      "岐阜県\t多治見\t40.9\t2007-08-16\n",
      "高知県\t江川崎\t41\t2013-08-12\n"
     ]
    }
   ],
   "source": [
    "with open(\"hightemp.txt\",'r') as f:\n",
    "    ll = [l.split() for l in f.readlines()]\n",
    "    \n",
    "ll.sort(key = lambda l: l[2])\n",
    "lines = map(lambda l: '\\t'.join(l), ll)\n",
    "text = '\\n'.join(lines)\n",
    "\n",
    "print(text)"
   ]
  },
  {
   "cell_type": "markdown",
   "metadata": {},
   "source": [
    "## 19. 各行の1コラム目の文字列の出現頻度を求め，出現頻度の高い順に並べる\n",
    "各行の1列目の文字列の出現頻度を求め，その高い順に並べて表示せよ．確認にはcut, uniq, sortコマンドを用いよ．\n",
    "\n",
    "UNIX:  \n",
    "`cut -f 1 hightemp.txt | sort | uniq -c | sort -r -k 1 | cut -b 6-`\n",
    "\n",
    "1. 1列目を抜き出す\n",
    "1. ソート\n",
    "1. 重複を数え上げて除去\n",
    "1. 数えた数をもとに降順ソート\n",
    "1. 数字部分を除去(3文字,6バイト分)"
   ]
  },
  {
   "cell_type": "code",
   "execution_count": 6,
   "metadata": {},
   "outputs": [
    {
     "name": "stdout",
     "output_type": "stream",
     "text": [
      "埼玉県\n",
      "山形県\n",
      "山梨県\n",
      "群馬県\n",
      "岐阜県\n",
      "静岡県\n",
      "千葉県\n",
      "高知県\n",
      "和歌山県\n",
      "愛知県\n",
      "愛媛県\n",
      "大阪府\n",
      "愛知県\n"
     ]
    }
   ],
   "source": [
    "import collections\n",
    "\n",
    "with open(\"col1.txt\",'r') as f:\n",
    "    l = f.readlines()\n",
    "    c = collections.Counter(l)\n",
    "\n",
    "print(''.join([elm for elm, n in c.most_common()]))"
   ]
  },
  {
   "cell_type": "code",
   "execution_count": null,
   "metadata": {},
   "outputs": [],
   "source": []
  }
 ],
 "metadata": {
  "kernelspec": {
   "display_name": "Python 3",
   "language": "python",
   "name": "python3"
  },
  "language_info": {
   "codemirror_mode": {
    "name": "ipython",
    "version": 3
   },
   "file_extension": ".py",
   "mimetype": "text/x-python",
   "name": "python",
   "nbconvert_exporter": "python",
   "pygments_lexer": "ipython3",
   "version": "3.6.6"
  }
 },
 "nbformat": 4,
 "nbformat_minor": 2
}
