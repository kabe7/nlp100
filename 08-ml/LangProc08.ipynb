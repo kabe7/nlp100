{
 "cells": [
  {
   "cell_type": "code",
   "execution_count": 10,
   "metadata": {},
   "outputs": [],
   "source": [
    "from pprint import pprint\n",
    "import numpy as np\n",
    "import scipy.sparse as spar\n",
    "import re"
   ]
  },
  {
   "cell_type": "markdown",
   "metadata": {},
   "source": [
    "## 70. データの入手・整形\n",
    "文に関する極性分析の正解データを用い，以下の要領で正解データ（sentiment.txt）を作成せよ．\n",
    "\n",
    "rt-polarity.posの各行の先頭に\"+1 \"という文字列を追加する（極性ラベル\"+1\"とスペースに続けて肯定的な文の内容が続く）\n",
    "rt-polarity.negの各行の先頭に\"-1 \"という文字列を追加する（極性ラベル\"-1\"とスペースに続けて否定的な文の内容が続く）\n",
    "上述1と2の内容を結合（concatenate）し，行をランダムに並び替える\n",
    "sentiment.txtを作成したら，正例（肯定的な文）の数と負例（否定的な文）の数を確認せよ．"
   ]
  },
  {
   "cell_type": "code",
   "execution_count": null,
   "metadata": {},
   "outputs": [],
   "source": [
    "from random import shuffle\n",
    "\n",
    "overwrite = False\n",
    "\n",
    "with open(\"rt-polaritydata/rt-polarity.neg\" ,encoding='iso8859_2') as neg, open(\"rt-polaritydata/rt-polarity.pos\", encoding='iso8859_2') as pos:\n",
    "    plus1, minus1 = [\"+1\\t\" + line for line in pos], [\"-1\\t\" + line for line in neg]\n",
    "    \n",
    "data = plus1 + minus1\n",
    "shuffle(data)\n",
    "\n",
    "if overwrite:\n",
    "    with open(\"data/sentiment.txt\", 'w', encoding='utf-8') as f:\n",
    "        f.write(''.join(data))"
   ]
  },
  {
   "cell_type": "markdown",
   "metadata": {},
   "source": [
    "## 71. ストップワード\n",
    "\n",
    "英語のストップワードのリスト（ストップリスト）を適当に作成せよ．さらに，引数に与えられた単語（文字列）がストップリストに含まれている場合は真，それ以外は偽を返す関数を実装せよ．さらに，その関数に対するテストを記述せよ．\n",
    "\n",
    "### memo\n",
    "[Ranks NL](https://www.ranks.nl/stopwords)よりstopwords.txtを作成"
   ]
  },
  {
   "cell_type": "code",
   "execution_count": 2,
   "metadata": {},
   "outputs": [],
   "source": [
    "def is_stopword(string):\n",
    "    with open(\"data/stopwords.txt\", encoding='utf-8') as sw_file:\n",
    "        stopwords = sw_file.read().split('\\n')\n",
    "        \n",
    "    return string.lower() in stopwords\n",
    "\n",
    "testcase = [('a', True), ('b', False), ('I', True), ('mine', False)]\n",
    "\n",
    "for word, tf in testcase:\n",
    "    assert is_stopword(word) == tf, \"something went wrong with ''{}'' \".format(word)"
   ]
  },
  {
   "cell_type": "markdown",
   "metadata": {},
   "source": [
    "## 72. 素性抽出\n",
    "\n",
    "極性分析に有用そうな素性を各自で設計し，学習データから素性を抽出せよ．素性としては，レビューからストップワードを除去し，各単語をステミング処理したものが最低限のベースラインとなるであろう．\n",
    "\n",
    "### memo\n",
    "stemming -> tf-idfがよさそう\n",
    "\n",
    "- 極性データ: polarity.npy(numpy)\n",
    "- 素性ベクトル: features.npz(scipy.sparse)\n",
    "- ラベル: label.txt\n"
   ]
  },
  {
   "cell_type": "code",
   "execution_count": 9,
   "metadata": {},
   "outputs": [],
   "source": [
    "from nltk.stem.porter import PorterStemmer\n",
    "from sklearn.feature_extraction.text import TfidfVectorizer\n",
    "import numpy as np\n",
    "import scipy.sparse as spar\n",
    "\n",
    "def formatter(line):\n",
    "    # 角括弧の除去\n",
    "    l = re.sub(r'[\\[\\]]', '', line)\n",
    "    # 不要な空白の除去\n",
    "    l = re.sub(r\" ([\\W])(?=\\s)\", '\\g<1>', l)\n",
    "    # 改行の除去\n",
    "    l = re.sub(' \\n', '', l)\n",
    "    # 極性と文章の分離\n",
    "    sgn, sentence = l.split('\\t')\n",
    "    \n",
    "    # 文書にstemmingをかける\n",
    "    ps = PorterStemmer()\n",
    "    corpus = ' '.join([ps.stem(word) for word in sentence.split() if not is_stopword(word)])\n",
    "    return int(sgn), corpus\n",
    "\n",
    "with open (\"data/sentiment.txt\", encoding='utf-8') as src:\n",
    "    sc = [formatter(line) for line in src]\n",
    "    sgns, corpuses = zip(*sc)\n",
    "        \n",
    "# sklearnに全部丸投げ\n",
    "vectorizer = TfidfVectorizer()\n",
    "res = vectorizer.fit_transform(corpuses)\n",
    "\n",
    "# データの保存\n",
    "np.save('data/polarity.npy', np.array(sgns, dtype='short'))\n",
    "spar.save_npz('data/features.npz', res)\n",
    "with open('data/label.txt', 'w') as f:\n",
    "    f.write('\\n'.join(vectorizer.get_feature_names()))"
   ]
  },
  {
   "cell_type": "markdown",
   "metadata": {},
   "source": [
    "## 73. 学習\n",
    "72で抽出した素性を用いて，ロジスティック回帰モデルを学習せよ．\n",
    "\n",
    "### memo\n",
    "sklearnに丸投げ\n",
    "[documentation of LogisticRegression](https://scikit-learn.org/stable/modules/generated/sklearn.linear_model.LogisticRegression.html)"
   ]
  },
  {
   "cell_type": "code",
   "execution_count": 17,
   "metadata": {},
   "outputs": [
    {
     "name": "stdout",
     "output_type": "stream",
     "text": [
      "finish learning\n"
     ]
    }
   ],
   "source": [
    "from sklearn.linear_model import LogisticRegression\n",
    "\n",
    "features = spar.load_npz('data/features.npz')\n",
    "porality = np.load('data/polarity.npy')\n",
    "\n",
    "model = LogisticRegression(solver='lbfgs')\n",
    "model.fit(features, porality)\n",
    "print('finish learning')"
   ]
  },
  {
   "cell_type": "markdown",
   "metadata": {},
   "source": [
    "## 74. 予測\n",
    "73で学習したロジスティック回帰モデルを用い，与えられた文の極性ラベル（正例なら\"+1\"，負例なら\"-1\"）と，その予測確率を計算するプログラムを実装せよ．\n",
    "\n",
    "### memo\n",
    "model.predict, model.predict_probaに素性データを丸投げ  \n",
    "probabilityの第1項は極性が-1の確率、第2項は極性が1の確率"
   ]
  },
  {
   "cell_type": "code",
   "execution_count": 61,
   "metadata": {},
   "outputs": [
    {
     "name": "stdout",
     "output_type": "stream",
     "text": [
      "sentence id: 1 -> polarity: -1\tprobability: [0.70301472 0.29698528]\n"
     ]
    }
   ],
   "source": [
    "sentence_id = 1 # 0 <= x < 10662\n",
    "feature = features[sentence_id]\n",
    "predict = model.predict(feature)[0]\n",
    "probability = model.predict_proba(feature)[0]\n",
    "\n",
    "print('sentence id: {} -> polarity: {}\\tprobability: {}'.format(sentence_id, predict, probability))\n"
   ]
  },
  {
   "cell_type": "markdown",
   "metadata": {},
   "source": [
    "## 75. 素性の重み\n",
    "73で学習したロジスティック回帰モデルの中で，重みの高い素性トップ10と，重みの低い素性トップ10を確認せよ．"
   ]
  },
  {
   "cell_type": "code",
   "execution_count": 53,
   "metadata": {},
   "outputs": [],
   "source": [
    "coef = model.coef_[0]\n",
    "idxs = np.argsort(-coef) # 降順ソート\n",
    "label = np.loadtxt('data/label.txt', dtype=str)\n",
    "\n",
    "check = False\n",
    "if check:\n",
    "    print('Good Words')\n",
    "    for idx in np.nditer(idxs[:10]):\n",
    "        print(label[idx], coef[idx])\n",
    "\n",
    "    print('Bad Words')\n",
    "    for idx in np.nditer(idxs[-10:]):\n",
    "        print(label[idx], coef[idx])\n",
    "    \n",
    "with open('res/75.txt', 'w') as f:\n",
    "    for idx in np.nditer(idxs):\n",
    "        f.write('{}\\t{:.5f}\\n'.format(label[idx], coef[idx]))"
   ]
  },
  {
   "cell_type": "markdown",
   "metadata": {},
   "source": [
    "## 76. ラベル付け\n",
    "学習データに対してロジスティック回帰モデルを適用し，正解のラベル，予測されたラベル，予測確率をタブ区切り形式で出力せよ．"
   ]
  },
  {
   "cell_type": "code",
   "execution_count": 68,
   "metadata": {},
   "outputs": [],
   "source": [
    "sentence_id = 1 # 0 <= x < 10662\n",
    "features = spar.load_npz('data/features.npz')\n",
    "porality = np.load('data/polarity.npy')\n",
    "predict = model.predict(features)\n",
    "probability = model.predict_proba(features)\n",
    "\n",
    "with open('res/76.txt', 'w') as f:\n",
    "    ## label\n",
    "    f.write('polarity\\tpredict\\tP(s=-1)\\tP(s=1)\\n')\n",
    "    for idx in range(len(porality)):\n",
    "        f.write('{}\\t{}\\t{:.5f}\\t{:.5f}\\n'.format(porality[idx], predict[idx], probability[idx,0], probability[idx,1]))"
   ]
  },
  {
   "cell_type": "markdown",
   "metadata": {},
   "source": [
    "## 77. 正解率の計測\n",
    "76の出力を受け取り，予測の正解率，正例に関する適合率，再現率，F1スコアを求めるプログラムを作成せよ．"
   ]
  },
  {
   "cell_type": "code",
   "execution_count": 74,
   "metadata": {},
   "outputs": [
    {
     "name": "stdout",
     "output_type": "stream",
     "text": [
      "accuracy: 0.8925154755205402\n",
      "precision:  0.89773807260977\n",
      "recall:  0.8859501031701369\n",
      "F1:  0.8918051359516616\n"
     ]
    }
   ],
   "source": [
    "from sklearn.metrics import accuracy_score, precision_score, recall_score, f1_score\n",
    "\n",
    "pp = np.loadtxt('res/76.txt', delimiter='\\t', skiprows=1)\n",
    "porality, predict = pp[:,0], pp[:,1]\n",
    "\n",
    "print('accuracy:', accuracy_score(porality, predict))\n",
    "print('precision: ',precision_score(porality, predict))\n",
    "print('recall: ', recall_score(porality, predict))\n",
    "print('F1: ', f1_score(porality, predict))"
   ]
  },
  {
   "cell_type": "markdown",
   "metadata": {},
   "source": [
    "## 78. 5分割交差検定\n",
    "76-77の実験では，学習に用いた事例を評価にも用いたため，正当な評価とは言えない．すなわち，分類器が訓練事例を丸暗記する際の性能を評価しており，モデルの汎化性能を測定していない．そこで，5分割交差検定により，極性分類の正解率，適合率，再現率，F1スコアを求めよ．"
   ]
  },
  {
   "cell_type": "code",
   "execution_count": 103,
   "metadata": {},
   "outputs": [
    {
     "name": "stdout",
     "output_type": "stream",
     "text": [
      "[[0.36013494 0.63986506]\n",
      " [0.70301472 0.29698528]\n",
      " [0.1692292  0.8307708 ]\n",
      " ...\n",
      " [0.89145462 0.10854538]\n",
      " [0.60245008 0.39754992]\n",
      " [0.45426106 0.54573894]]\n"
     ]
    }
   ],
   "source": [
    "from sklearn.linear_model import LogisticRegression\n",
    "from sklearn.metrics import accuracy_score, precision_score, recall_score, f1_score\n",
    "\n",
    "k =  #分割数\n",
    "features = spar.load_npz('data/features.npz')\n",
    "porality = np.load('data/polarity.npy')\n",
    "n = len(porality)\n",
    "\n",
    "partition = [int(m * n/k) for m in range(k+1)]\n",
    "section = [(start, end) for start, end in zip(partition[:k], partition[1:])]\n",
    "\n",
    "tests = [\n",
    "    ('accuracy', accuracy_score, []),\n",
    "    ('precision', precision_score, []),\n",
    "    ('recall', recall_score, []),\n",
    "    ('F1', f1_score, [])\n",
    "]\n",
    "\n",
    "for start, end in section:\n",
    "    fancy_idx = np.array([True if start <= i < end else False for i in range(n)],dtype=bool)\n",
    "    # 検証用データ\n",
    "    va_por, va_fs = porality[fancy_idx], features[fancy_idx]\n",
    "    # 学習用データ\n",
    "    tr_por, tr_fs = porality[np.logical_not(fancy_idx)], features[np.logical_not(fancy_idx)]\n",
    "    \n",
    "    model = LogisticRegression(solver='lbfgs')\n",
    "    model.fit(tr_fs, tr_por)\n",
    "    predict_por = model.predict(va_fs)\n",
    "    for name, func, results in tests:\n",
    "        score = func(va_por, predict_por)\n",
    "        results.append(score)\n",
    "\n",
    "print('{}-cross validation:'.format(k))\n",
    "for name, _, results in tests:\n",
    "    print('\\t{}: {:.5f}'.format(name, sum(results)/k))"
   ]
  },
  {
   "cell_type": "markdown",
   "metadata": {},
   "source": [
    "## 79. 適合率-再現率グラフの描画\n",
    "ロジスティック回帰モデルの分類の閾値を変化させることで，適合率-再現率グラフを描画せよ．"
   ]
  },
  {
   "cell_type": "code",
   "execution_count": 117,
   "metadata": {},
   "outputs": [
    {
     "data": {
      "image/png": "[encoded data removed]",
      "text/plain": [
       "<Figure size 432x288 with 1 Axes>"
      ]
     },
     "metadata": {},
     "output_type": "display_data"
    }
   ],
   "source": [
    "%matplotlib inline\n",
    "import matplotlib.pyplot as plt\n",
    "import seaborn as sns; sns.set()\n",
    "from sklearn.linear_model import LogisticRegression\n",
    "from sklearn.metrics import accuracy_score, precision_score, recall_score, f1_score\n",
    "\n",
    "k = 5 #分割数\n",
    "features = spar.load_npz('data/features.npz')\n",
    "porality = np.load('data/polarity.npy')\n",
    "n = len(porality)\n",
    "\n",
    "partition = [int(m * n/k) for m in range(k+1)]\n",
    "section = [(start, end) for start, end in zip(partition[:k], partition[1:])]\n",
    "\n",
    "tests = [\n",
    "    ('precision', precision_score, []),\n",
    "    ('recall', recall_score, []),\n",
    "]\n",
    "\n",
    "# 文章がpositiveであると予測される確率を計算する\n",
    "probability = np.empty(n)\n",
    "for start, end in section:\n",
    "    fancy_idx = np.array([True if start <= i < end else False for i in range(n)],dtype=bool)\n",
    "    # 検証用データ\n",
    "    va_por, va_fs = porality[fancy_idx], features[fancy_idx]\n",
    "    # 学習用データ\n",
    "    tr_por, tr_fs = porality[np.logical_not(fancy_idx)], features[np.logical_not(fancy_idx)]\n",
    "    \n",
    "    model = LogisticRegression(solver='lbfgs')\n",
    "    model.fit(tr_fs, tr_por)\n",
    "    probability[start:end] = model.predict_proba(va_fs)[:,1]\n",
    "\n",
    "# 確率が閾値以上ならpositiveと判定する\n",
    "for threshold in np.linspace(0,max(probability),100):\n",
    "    for name, test, results in tests:\n",
    "        predict = np.where(probability >= threshold, 1, -1)\n",
    "        results.append(test(porality, predict))\n",
    "        \n",
    "precision, recall = [results for _, _, results in tests]\n",
    "plt.plot(recall, precision)\n",
    "plt.title('precision-recall curve')\n",
    "plt.xlabel('recall')\n",
    "plt.ylabel('precision')\n",
    "plt.show()"
   ]
  },
  {
   "cell_type": "code",
   "execution_count": null,
   "metadata": {},
   "outputs": [],
   "source": []
  }
 ],
 "metadata": {
  "kernelspec": {
   "display_name": "Python 3",
   "language": "python",
   "name": "python3"
  },
  "language_info": {
   "codemirror_mode": {
    "name": "ipython",
    "version": 3
   },
   "file_extension": ".py",
   "mimetype": "text/x-python",
   "name": "python",
   "nbconvert_exporter": "python",
   "pygments_lexer": "ipython3",
   "version": "3.7.3"
  }
 },
 "nbformat": 4,
 "nbformat_minor": 2
}
